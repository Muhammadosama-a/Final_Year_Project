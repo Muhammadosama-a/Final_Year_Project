{
  "nbformat": 4,
  "nbformat_minor": 0,
  "metadata": {
    "colab": {
      "provenance": []
    },
    "kernelspec": {
      "name": "python3",
      "display_name": "Python 3"
    },
    "language_info": {
      "name": "python"
    }
  },
  "cells": [
    {
      "cell_type": "code",
      "execution_count": 1,
      "metadata": {
        "colab": {
          "base_uri": "https://localhost:8080/"
        },
        "id": "XDW_fGRiaLfg",
        "outputId": "02437569-ac67-479e-bf17-0384f6b06e35"
      },
      "outputs": [
        {
          "output_type": "stream",
          "name": "stdout",
          "text": [
            "Filtered data saved to 'normal_behavior_9am_to_5pm.csv'\n"
          ]
        }
      ],
      "source": [
        "import pandas as pd\n",
        "\n",
        "# Step 1: Load the dataset\n",
        "file_path = \"/content/archive_logs_for_SLA.csv\"  # Update path if needed\n",
        "df = pd.read_csv(file_path)\n",
        "\n",
        "# Step 2: Convert '@timestamp' to datetime\n",
        "df['@timestamp'] = pd.to_datetime(df['@timestamp'], format='%b %d, %Y @ %H:%M:%S.%f', errors='coerce')\n",
        "\n",
        "# Step 3: Drop rows with invalid timestamps\n",
        "df = df.dropna(subset=['@timestamp'])\n",
        "\n",
        "# Step 4: Filter records between 9:00 AM to 5:00 PM\n",
        "df_filtered = df[(df['@timestamp'].dt.hour >= 9) & (df['@timestamp'].dt.hour < 17)]\n",
        "\n",
        "# Step 5: (Optional) Save filtered data to a new CSV\n",
        "df_filtered.to_csv(\"normal_behavior_9am_to_5pm.csv\", index=False)\n",
        "\n",
        "print(\"Filtered data saved to 'normal_behavior_9am_to_5pm.csv'\")\n"
      ]
    }
  ]
}