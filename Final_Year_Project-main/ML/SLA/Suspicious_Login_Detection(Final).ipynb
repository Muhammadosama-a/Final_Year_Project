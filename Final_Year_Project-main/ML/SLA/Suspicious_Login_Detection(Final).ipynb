{
  "cells": [
    {
      "cell_type": "markdown",
      "metadata": {
        "id": "view-in-github"
      },
      "source": [
        "<a href=\"https://colab.research.google.com/github/Khalidhussainn/Final_Year_Project/blob/main/ML/SLA/Suspicious_Login_Detection(Final).ipynb\" target=\"_parent\"><img src=\"https://colab.research.google.com/assets/colab-badge.svg\" alt=\"Open In Colab\"/></a>"
      ],
      "id": "view-in-github"
    },
    {
      "cell_type": "markdown",
      "id": "335056da",
      "metadata": {
        "id": "335056da"
      },
      "source": [
        "# Suspicious Login Detection in Windows (Using Wazuh Archive Logs)\n",
        "---\n",
        "## Step by Step Guide for Beginners"
      ]
    },
    {
      "cell_type": "markdown",
      "id": "72663719",
      "metadata": {
        "id": "72663719"
      },
      "source": []
    },
    {
      "cell_type": "markdown",
      "id": "84c7708f",
      "metadata": {
        "id": "84c7708f"
      },
      "source": [
        "### Step 0: Mount Google Drive (Colab Only)"
      ]
    },
    {
      "cell_type": "code",
      "execution_count": null,
      "id": "d857fe96",
      "metadata": {
        "id": "d857fe96"
      },
      "outputs": [],
      "source": [
        "from google.colab import drive\n",
        "drive.mount('/content/drive')"
      ]
    },
    {
      "cell_type": "markdown",
      "id": "b429a814",
      "metadata": {
        "id": "b429a814"
      },
      "source": [
        "### Step 1: Import Libraries"
      ]
    },
    {
      "cell_type": "markdown",
      "id": "b35b69f7",
      "metadata": {
        "id": "b35b69f7"
      },
      "source": [
        "### Step 2: Load Data"
      ]
    },
    {
      "cell_type": "code",
      "execution_count": null,
      "id": "30aa8dac",
      "metadata": {
        "id": "30aa8dac"
      },
      "outputs": [],
      "source": [
        "\n",
        "file_path = \"/content/drive/MyDrive/Colab Notebooks/SLA/archive_logs_for_SLA.csv\"\n",
        "df = pd.read_csv(file_path)\n",
        "print(\"Shape of dataset:\", df.shape)\n",
        "df.head()\n"
      ]
    },
    {
      "cell_type": "markdown",
      "id": "8d61e527",
      "metadata": {
        "id": "8d61e527"
      },
      "source": [
        "### Step 3: Basic Data Exploration & Cleaning"
      ]
    },
    {
      "cell_type": "code",
      "execution_count": null,
      "id": "c65403dc",
      "metadata": {
        "id": "c65403dc"
      },
      "outputs": [],
      "source": [
        "\n",
        "print(\"Columns:\", df.columns.tolist())\n",
        "df.info()\n",
        "print(df.isnull().sum())\n",
        "duplicate_counts = df.duplicated().sum()\n",
        "print(\"Total duplicate rows:\", duplicate_counts)\n",
        "df = df.drop_duplicates()\n",
        "print(\"Shape after removing duplicates:\", df.shape)\n"
      ]
    },
    {
      "cell_type": "markdown",
      "id": "40a8f54e",
      "metadata": {
        "id": "40a8f54e"
      },
      "source": [
        "### Step 4: Feature Selection"
      ]
    },
    {
      "cell_type": "code",
      "execution_count": null,
      "id": "8fe301de",
      "metadata": {
        "id": "8fe301de"
      },
      "outputs": [],
      "source": [
        "\n",
        "cols_to_keep = [\n",
        "    \"@timestamp\", \"data.win.system.eventID\", \"agent.name\", \"data.win.eventdata.logonType\"\n",
        "]\n",
        "df = df[cols_to_keep]\n",
        "print(\"Shape after column selection:\", df.shape)\n",
        "df.head()\n"
      ]
    },
    {
      "cell_type": "markdown",
      "id": "c97cdafd",
      "metadata": {
        "id": "c97cdafd"
      },
      "source": [
        "### Step 5: Value Counts for Categorical Columns"
      ]
    },
    {
      "cell_type": "code",
      "execution_count": null,
      "id": "dca95dbb",
      "metadata": {
        "id": "dca95dbb"
      },
      "outputs": [],
      "source": [
        "\n",
        "for col in cols_to_keep[1:]:\n",
        "    print(f\"\\nUnique value counts for {col}:\\n\", df[col].value_counts())\n"
      ]
    },
    {
      "cell_type": "markdown",
      "id": "0ee99f0e",
      "metadata": {
        "id": "0ee99f0e"
      },
      "source": [
        "### Step 6: Data Visualization"
      ]
    },
    {
      "cell_type": "code",
      "execution_count": null,
      "id": "982fda17",
      "metadata": {
        "id": "982fda17"
      },
      "outputs": [],
      "source": [
        "\n",
        "\n",
        "sns.countplot(x=\"data.win.eventdata.logonType\", data=df)\n",
        "plt.title(\"Frequency of Logon Types\")\n",
        "plt.show()\n",
        "\n",
        "top_agents = df[\"agent.name\"].value_counts().nlargest(10)\n",
        "sns.barplot(x=top_agents.values, y=top_agents.index, palette=\"magma\")\n",
        "plt.title(\"Top 10 Active Agents\")\n",
        "plt.xlabel(\"Logon Event Count\")\n",
        "plt.ylabel(\"Agent Name\")\n",
        "plt.show()\n"
      ]
    },
    {
      "cell_type": "markdown",
      "id": "dd5f8822",
      "metadata": {
        "id": "dd5f8822"
      },
      "source": [
        "### Step 7: Timestamp Processing & Feature Engineering"
      ]
    },
    {
      "cell_type": "code",
      "execution_count": null,
      "id": "e60f4f6b",
      "metadata": {
        "id": "e60f4f6b"
      },
      "outputs": [],
      "source": [
        "\n",
        "df['@timestamp'] = df['@timestamp'].str.replace(' @ ', ' ', regex=False)\n",
        "df['@timestamp'] = pd.to_datetime(df['@timestamp'], errors='coerce')\n",
        "df = df.dropna(subset=['@timestamp'])\n",
        "df['year'] = df['@timestamp'].dt.year\n",
        "df['month'] = df['@timestamp'].dt.month\n",
        "df['day'] = df['@timestamp'].dt.day\n",
        "df['hour'] = df['@timestamp'].dt.hour\n",
        "df['minute'] = df['@timestamp'].dt.minute\n",
        "df['second'] = df['@timestamp'].dt.second\n",
        "df['day_of_week'] = df['@timestamp'].dt.dayofweek\n",
        "df.head()\n"
      ]
    },
    {
      "cell_type": "markdown",
      "id": "8d23bc76",
      "metadata": {
        "id": "8d23bc76"
      },
      "source": [
        "### Step 8: Label Encoding"
      ]
    },
    {
      "cell_type": "code",
      "execution_count": null,
      "id": "8bcecda6",
      "metadata": {
        "id": "8bcecda6"
      },
      "outputs": [],
      "source": [
        "\n",
        "label_cols = [\"agent.name\", \"data.win.eventdata.logonType\", \"data.win.system.eventID\"]\n",
        "label_encoders = {}\n",
        "for col in label_cols:\n",
        "    le = LabelEncoder()\n",
        "    df[col] = le.fit_transform(df[col])\n",
        "    label_encoders[col] = le\n",
        "df.head()\n"
      ]
    },
    {
      "cell_type": "markdown",
      "id": "5ce71321",
      "metadata": {
        "id": "5ce71321"
      },
      "source": [
        "### Step 9: Prepare Features"
      ]
    },
    {
      "cell_type": "code",
      "execution_count": null,
      "id": "fb828252",
      "metadata": {
        "id": "fb828252"
      },
      "outputs": [],
      "source": [
        "\n",
        "feature_columns = [\n",
        "    \"data.win.system.eventID\", \"agent.name\", \"data.win.eventdata.logonType\",\n",
        "    \"year\", \"month\", \"day\", \"hour\", \"minute\", \"second\", \"day_of_week\"\n",
        "]\n",
        "X = df[feature_columns]\n",
        "scaler = StandardScaler()\n",
        "X_scaled = scaler.fit_transform(X)\n"
      ]
    },
    {
      "cell_type": "markdown",
      "id": "83817ae0",
      "metadata": {
        "id": "83817ae0"
      },
      "source": [
        "### Step 10: Train Isolation Forest"
      ]
    },
    {
      "cell_type": "code",
      "execution_count": null,
      "id": "dbd22782",
      "metadata": {
        "id": "dbd22782"
      },
      "outputs": [],
      "source": [
        "\n",
        "iso_forest = IsolationForest(n_estimators=100, contamination=0.015, random_state=42)\n",
        "iso_forest.fit(X_scaled)\n",
        "df['Anomaly'] = iso_forest.predict(X_scaled)\n",
        "df['Anomaly'] = df['Anomaly'].map({1: 0, -1: 1})\n",
        "print(df['Anomaly'].value_counts())\n"
      ]
    },
    {
      "cell_type": "markdown",
      "id": "0f651134",
      "metadata": {
        "id": "0f651134"
      },
      "source": [
        "### Step 11: Anomaly Visualization"
      ]
    },
    {
      "cell_type": "code",
      "execution_count": null,
      "id": "A4PPk6XcsEER",
      "metadata": {
        "id": "A4PPk6XcsEER"
      },
      "outputs": [],
      "source": [
        "plt.figure(figsize=(6,4))\n",
        "sns.countplot(x=\"Anomaly\", data=df, hue=\"Anomaly\", palette={0: \"green\", 1: \"red\"}, legend=False)\n",
        "\n",
        "plt.xticks([0, 1], [\"Normal\", \"Anomaly\"])\n",
        "plt.title(\"Normal vs Suspicious (Anomaly) Logins\")\n",
        "plt.xlabel(\"Login Type\")\n",
        "plt.ylabel(\"Count\")\n",
        "plt.show()\n"
      ]
    },
    {
      "cell_type": "code",
      "execution_count": null,
      "id": "KKKMgNRSsJ7Q",
      "metadata": {
        "id": "KKKMgNRSsJ7Q"
      },
      "outputs": [],
      "source": [
        "# Step 13: Visualization - Scatter Plot (Hour vs Logon Type)\n",
        "plt.figure(figsize=(10, 6))\n",
        "sns.scatterplot(\n",
        "    x=df['hour'],\n",
        "    y=df['data.win.eventdata.logonType'],\n",
        "    hue=df['Anomaly'],\n",
        "    palette={0: \"green\", 1: \"red\"},\n",
        "    alpha=0.6\n",
        ")\n",
        "plt.title(\"Suspicious vs Normal Logins by Hour and Logon Type\")\n",
        "plt.xlabel(\"Hour of Day\")\n",
        "plt.ylabel(\"Logon Type (Encoded)\")\n",
        "plt.legend(title=\"Login Type\", labels=[\"Normal\", \"Anomaly\"])\n",
        "plt.show()\n"
      ]
    },
    {
      "cell_type": "markdown",
      "id": "a909cfa2",
      "metadata": {
        "id": "a909cfa2"
      },
      "source": [
        "### Step 12: PCA Visualization"
      ]
    },
    {
      "cell_type": "code",
      "execution_count": null,
      "id": "eadce792",
      "metadata": {
        "id": "eadce792"
      },
      "outputs": [],
      "source": [
        "# Step 14: Visualization - PCA Plot (All Features in 2D)\n",
        "pca = PCA(n_components=2)\n",
        "X_pca = pca.fit_transform(X_scaled)\n",
        "\n",
        "df['PCA1'] = X_pca[:, 0]\n",
        "df['PCA2'] = X_pca[:, 1]\n",
        "\n",
        "plt.figure(figsize=(10, 6))\n",
        "sns.scatterplot(x=\"PCA1\", y=\"PCA2\", hue=\"Anomaly\", data=df, palette={0: \"green\", 1: \"red\"}, alpha=0.6)\n",
        "plt.title(\"PCA: Normal vs Suspicious Logins\")\n",
        "plt.legend(title=\"Login Type\", labels=[\"Normal\", \"Anomaly\"])\n",
        "plt.show()"
      ]
    },
    {
      "cell_type": "markdown",
      "source": [
        "**Apply LOF**\n",
        "\n",
        "\n"
      ],
      "metadata": {
        "id": "YMhOhEEI9gyJ"
      },
      "id": "YMhOhEEI9gyJ"
    },
    {
      "cell_type": "code",
      "execution_count": null,
      "id": "a92b972c",
      "metadata": {
        "id": "a92b972c"
      },
      "outputs": [],
      "source": [
        "from sklearn.neighbors import LocalOutlierFactor\n",
        "\n",
        "# Apply LOF with contamination level set to 1.5%\n",
        "lof = LocalOutlierFactor(n_neighbors=20, contamination=0.015)\n",
        "y_pred = lof.fit_predict(X_scaled)\n",
        "\n",
        "# LOF returns -1 for outliers, 1 for inliers; map them\n",
        "df['Anomaly'] = (y_pred == -1).astype(int)\n",
        "\n",
        "# View anomaly distribution\n",
        "print(df['Anomaly'].value_counts())\n"
      ]
    },
    {
      "cell_type": "code",
      "source": [
        "plt.figure(figsize=(6,4))\n",
        "sns.countplot(x=\"Anomaly\", data=df, hue=\"Anomaly\", palette={0: \"green\", 1: \"red\"}, legend=False)\n",
        "plt.xticks([0, 1], [\"Normal\", \"Anomaly\"])\n",
        "plt.title(\"Normal vs Suspicious (Anomaly) Logins\")\n",
        "plt.xlabel(\"Login Type\")\n",
        "plt.ylabel(\"Count\")\n",
        "plt.show()\n",
        "\n"
      ],
      "metadata": {
        "id": "rz3UudPs9NoL"
      },
      "id": "rz3UudPs9NoL",
      "execution_count": null,
      "outputs": []
    },
    {
      "cell_type": "code",
      "source": [
        "pca = PCA(n_components=2)\n",
        "X_pca = pca.fit_transform(X_scaled)\n",
        "df['PCA1'] = X_pca[:, 0]\n",
        "df['PCA2'] = X_pca[:, 1]\n",
        "\n",
        "plt.figure(figsize=(10, 6))\n",
        "sns.scatterplot(x=\"PCA1\", y=\"PCA2\", hue=\"Anomaly\", data=df, palette={0: \"green\", 1: \"red\"}, alpha=0.6)\n",
        "plt.title(\"PCA: Normal vs Suspicious Logins (LOF)\")\n",
        "plt.legend(title=\"Login Type\", labels=[\"Normal\", \"Anomaly\"])\n",
        "plt.show()\n"
      ],
      "metadata": {
        "id": "VNPscKCK9YOq"
      },
      "id": "VNPscKCK9YOq",
      "execution_count": null,
      "outputs": []
    },
    {
      "cell_type": "code",
      "execution_count": null,
      "id": "plau8KDzvCeR",
      "metadata": {
        "id": "plau8KDzvCeR"
      },
      "outputs": [],
      "source": [
        "# Step 15: Save Model and Preprocessing for Later Use (Optional)\n",
        "export_dir = '/content/drive/MyDrive/Colab Notebooks/SLA/Data_exports'\n",
        "os.makedirs(export_dir, exist_ok=True)\n",
        "joblib.dump(iso_forest, f'{export_dir}/iso_forest_model.pkl')\n",
        "joblib.dump(scaler, f'{export_dir}/scaler.pkl')\n",
        "for col, le in label_encoders.items():\n",
        "    joblib.dump(le, f\"{export_dir}/label_encoder_{col}.pkl\")\n",
        "joblib.dump(feature_columns, f\"{export_dir}/feature_columns.pkl\")\n",
        "event_id_mapping = {\n",
        "    \"4624\": \"Successful Logon\",\n",
        "    \"4625\": \"Failed Logon\"\n",
        "}\n",
        "joblib.dump(event_id_mapping, f'{export_dir}/event_id_mapping.pkl')\n",
        "\n",
        "print(f\"All models/artifacts exported to: {export_dir}\")"
      ]
    }
  ],
  "metadata": {
    "colab": {
      "provenance": []
    },
    "kernelspec": {
      "display_name": "Python 3",
      "name": "python3"
    },
    "language_info": {
      "name": "python"
    }
  },
  "nbformat": 4,
  "nbformat_minor": 5
}